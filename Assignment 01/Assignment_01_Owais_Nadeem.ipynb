{
  "cells": [
    {
      "cell_type": "code",
      "execution_count": null,
      "metadata": {
        "colab": {
          "base_uri": "https://localhost:8080/"
        },
        "id": "mkPdrJ5ugM-e",
        "outputId": "c27a41c0-f026-46d5-d9a8-36caa870652f"
      },
      "outputs": [
        {
          "name": "stdout",
          "output_type": "stream",
          "text": [
            "Banana\n",
            "Apple\n",
            "Orange\n",
            "Mango\n",
            "Grapes\n"
          ]
        }
      ],
      "source": [
        "# Question 01\n",
        "# Create a list named \"fruits\" containing three different fruits and display its items using for loop.\n",
        "\n",
        "fruits = [\"Banana\" , \"Apple\" , \"Orange\" , \"Mango\" , \"Grapes\"]\n",
        "\n",
        "for i in range(len(fruits)):\n",
        "  print(fruits[i])"
      ]
    },
    {
      "cell_type": "code",
      "execution_count": null,
      "metadata": {
        "colab": {
          "base_uri": "https://localhost:8080/"
        },
        "id": "5DnLb6MFhoBD",
        "outputId": "711c4d00-b67c-4b59-b00e-2663ca68e1c8"
      },
      "outputs": [
        {
          "name": "stdout",
          "output_type": "stream",
          "text": [
            "<class 'tuple'>\n",
            "4\n",
            "8\n",
            "2\n",
            "7\n",
            "1\n"
          ]
        }
      ],
      "source": [
        "# Question 02\n",
        "# Create a tuple named \"numbers\" with five random numbers and display its item using for loop.\n",
        "\n",
        "ran_numbers = ( 4 , 8 ,2 ,7 ,1 )\n",
        "\n",
        "print(type(ran_numbers))\n",
        "\n",
        "for i in range (len(ran_numbers)):\n",
        "  print(ran_numbers[i])"
      ]
    },
    {
      "cell_type": "code",
      "execution_count": null,
      "metadata": {
        "colab": {
          "base_uri": "https://localhost:8080/"
        },
        "id": "Rm0TpKeTiK7r",
        "outputId": "a9343df4-1f56-43b4-c69b-10fd09729cf4"
      },
      "outputs": [
        {
          "output_type": "stream",
          "name": "stdout",
          "text": [
            "green\n",
            "White\n",
            "Blue\n",
            "Orange\n"
          ]
        }
      ],
      "source": [
        "# Question 03\n",
        "# Create a set named \"colors\" with three different colors and display its items using for loop.\n",
        "\n",
        "colors_set = {\"White\" ,\"Blue\" , \"Orange\" , \"green\"}\n",
        "\n",
        "# for i in range(len(colors_set)):\n",
        "#   print(colors_set)\n",
        "# This is not a suitable approach, we have to keep this thing in our mind . We have to use for in loop in python to print indivisual indexes of sets\n",
        "\n",
        "for color in colors_set:\n",
        "  print(color)\n"
      ]
    },
    {
      "cell_type": "code",
      "source": [
        "#  Question 04\n",
        "#  Create a dictionary named \"student\" with the following key-value pairs:\n",
        "# \"name\" as the key and the student's name as the value.\n",
        "# \"age\" as the key and the student's age as the value.\n",
        "# \"grade\" as the key and the student's grade as the value.\n",
        "#  Iterate over the dictionary using the for loop and display its keys\n",
        "#  Iterate over the dictionary using the for loop and display its values\n",
        "\n",
        "student = {\n",
        "\n",
        "       'name' : \"Owais\" ,\n",
        "       \"age\" : 22 ,\n",
        "       \"grade\" : \"A+\",\n",
        "\n",
        "}\n",
        "\n",
        "# Iterate Over the keys of dictionary\n",
        "for i in student:\n",
        "  print(i)\n",
        "print(\"\\n\")\n",
        "# Iterate Over the values of dictionary\n",
        "for i in student:\n",
        "  print(student[i])\n",
        "\n",
        "print(\"\\n\")"
      ],
      "metadata": {
        "colab": {
          "base_uri": "https://localhost:8080/"
        },
        "id": "-c5hvJv6karT",
        "outputId": "b7315a77-7d0c-4fb9-fb23-2808d1e9add9"
      },
      "execution_count": null,
      "outputs": [
        {
          "output_type": "stream",
          "name": "stdout",
          "text": [
            "name\n",
            "age\n",
            "grade\n",
            "\n",
            "\n",
            "Owais\n",
            "22\n",
            "A+\n",
            "\n",
            "\n"
          ]
        }
      ]
    },
    {
      "cell_type": "code",
      "source": [
        "# Question 05\n",
        "\n",
        "poem = '''\n",
        "\n",
        "Twinkle, twinkle, little star\n",
        "How I wonder what you are\n",
        "Up above the world so high\n",
        "Like a diamond in the sky\n",
        "Twinkle, twinkle, little star\n",
        "How I wonder what you are\n",
        "Twinkle, twinkle, little star\n",
        "How I wonder what you are\n",
        "Up above the world so high\n",
        "Like a diamond in the sky\n",
        "Twinkle, twinkle, little star\n",
        "How I wonder what you are\n",
        "\n",
        "'''\n",
        "\n",
        "print(poem)\n"
      ],
      "metadata": {
        "colab": {
          "base_uri": "https://localhost:8080/"
        },
        "id": "HhiU1iBKmQQp",
        "outputId": "78ab3b79-c655-4645-a823-56aa66f77652"
      },
      "execution_count": null,
      "outputs": [
        {
          "output_type": "stream",
          "name": "stdout",
          "text": [
            "\n",
            "\n",
            "Twinkle, twinkle, little star\n",
            "How I wonder what you are\n",
            "Up above the world so high\n",
            "Like a diamond in the sky\n",
            "Twinkle, twinkle, little star\n",
            "How I wonder what you are\n",
            "Twinkle, twinkle, little star\n",
            "How I wonder what you are\n",
            "Up above the world so high\n",
            "Like a diamond in the sky\n",
            "Twinkle, twinkle, little star\n",
            "How I wonder what you are\n",
            "\n",
            "\n"
          ]
        }
      ]
    },
    {
      "cell_type": "code",
      "source": [
        "# Question 06\n",
        "# Write an if statement to check if the length of the \"fruits\" list is greater than 3. If it is, print \"You have many fruits!\".\n",
        "\n",
        "fruits = [\"Banana\" , \"Apple\" , \"Orange\" , \"Mango\" , \"Grapes\"]\n",
        "\n",
        "if len(fruits) > 3:\n",
        "  print(\"You have total\" ,len(fruits),\"fruits , which means that you have too many fruits\")\n"
      ],
      "metadata": {
        "colab": {
          "base_uri": "https://localhost:8080/"
        },
        "id": "xVWgEHu_miCc",
        "outputId": "bb7c5da1-158d-446d-f333-cfd0b57518d8"
      },
      "execution_count": null,
      "outputs": [
        {
          "output_type": "stream",
          "name": "stdout",
          "text": [
            "You have total 5 fruits , which means that you have too many fruits\n"
          ]
        }
      ]
    },
    {
      "cell_type": "code",
      "source": [
        "# Question 07\n",
        "# Create a program that takes a student's numerical grade as input and prints a\n",
        "# corresponding letter grade. Use if-else statements to classify the grade into\n",
        "# categories such as \"A,\" \"B,\" \"C,\" \"D,\" or \"F.\" (Marks 20)\n",
        "# If the numerical grade is 90 or higher, the corresponding letter grade is \"A.\"\n",
        "# If the numerical grade is between 80 and 89 (inclusive), the corresponding\n",
        "# letter grade is \"B.\"\n",
        "# If the numerical grade is between 70 and 79 (inclusive), the corresponding\n",
        "# letter grade is \"C.\"\n",
        "# If the numerical grade is between 60 and 69 (inclusive), the corresponding\n",
        "# letter grade is \"D.\"\n",
        "# If the numerical grade is below 60, the corresponding letter grade is \"F.\"\n",
        "\n",
        "student_percentage = int(input(\"Enter the percentage of the student = \"))\n",
        "\n",
        "print(\"The Percentage of the student is\" , student_percentage , \"%\")\n",
        "if student_percentage>=90:\n",
        "  print(\"Grade A\")\n",
        "elif student_percentage>=80:\n",
        "  print(\"Grade B\")\n",
        "elif student_percentage>=70:\n",
        "  print(\"Grade C\")\n",
        "elif student_percentage>=60:\n",
        "  print(\"Grade D\")\n",
        "elif student_percentage<60:\n",
        "  print(\"Grade F\")\n"
      ],
      "metadata": {
        "colab": {
          "base_uri": "https://localhost:8080/"
        },
        "id": "UXzsLVKxnPdI",
        "outputId": "0e248bee-eb1c-494b-b8d6-4c551cecd427"
      },
      "execution_count": null,
      "outputs": [
        {
          "output_type": "stream",
          "name": "stdout",
          "text": [
            "Enter the percentage of the student = 89\n",
            "The Percentage of the student is 89 %\n",
            "Grade B\n"
          ]
        }
      ]
    },
    {
      "cell_type": "code",
      "source": [
        "# Question 08\n",
        "# Create a program that takes a temperature in Celsius as input from user and\n",
        "# classifies it into categories like \"Freezing,\" \"Cold,\" \"Moderate,\" \"Warm,\" or \"Hot.\"\n",
        "# Use if-else statements to define the temperature ranges for each category. (Marks\n",
        "# 20)\n",
        "# o If the temperature is below -10 degrees Celsius, it's classified as \"Freezing.\"\n",
        "# o If the temperature is between -10 and 0 degrees Celsius (exclusive), it's\n",
        "# classified as \"Cold.\"\n",
        "# o If the temperature is between 0 and 20 degrees Celsius (exclusive), it's\n",
        "# classified as \"Moderate.\"\n",
        "# o If the temperature is between 20 and 30 degrees Celsius (exclusive), it's\n",
        "# classified as \"Warm.\"\n",
        "# o If the temperature is 30 degrees Celsius or above, it's classified as \"Hot.\"\n",
        "\n",
        "temp = int(input(\"Enter the temperature in celcius = \"))\n",
        "\n",
        "if temp<-10:\n",
        "  print(\"Freezing\")\n",
        "\n",
        "elif temp>= -10 and temp<0:\n",
        "  print(\"Cold\")\n",
        "\n",
        "elif temp>= 0 and temp<= 20:\n",
        "  print(\"Moderate\")\n",
        "\n",
        "elif temp >= 20 and temp <= 30:\n",
        "  print(\"Hot\")\n",
        "\n",
        "else:\n",
        "  print(\"Too hot !!! \")"
      ],
      "metadata": {
        "id": "HALaVLmBoQL5",
        "colab": {
          "base_uri": "https://localhost:8080/"
        },
        "outputId": "2621cc02-386d-4f04-ed06-b0b346008dd1"
      },
      "execution_count": 47,
      "outputs": [
        {
          "output_type": "stream",
          "name": "stdout",
          "text": [
            "Enter the temperature in celcius = -34\n",
            "Freezing\n"
          ]
        }
      ]
    }
  ],
  "metadata": {
    "colab": {
      "provenance": []
    },
    "kernelspec": {
      "display_name": "Python 3",
      "name": "python3"
    },
    "language_info": {
      "name": "python"
    }
  },
  "nbformat": 4,
  "nbformat_minor": 0
}